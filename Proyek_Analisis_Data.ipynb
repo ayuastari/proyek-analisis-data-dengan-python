{
  "cells": [
    {
      "cell_type": "markdown",
      "metadata": {
        "id": "H9wADwK78DCz"
      },
      "source": [
        "# Proyek Analisis Data: [Bike Sharing]\n",
        "- **Nama:** [Ayu Astari]\n",
        "- **Email:** [ayu.astari1884@student.unri.ac.id]\n",
        "- **ID Dicoding:** [ayu_astari10]"
      ]
    },
    {
      "cell_type": "markdown",
      "metadata": {
        "id": "eE0raob58DC0"
      },
      "source": [
        "## Menentukan Pertanyaan Bisnis"
      ]
    },
    {
      "cell_type": "markdown",
      "metadata": {
        "id": "GmQeQ5YF8DC0"
      },
      "source": [
        "- Apakah terdapat perbedaan yang signifikan dalam total workingday dan holiday antara musim-musim tersebut?\n",
        "- Bagaimana hubungan antara temp (suhu) dan total count pengguna sepeda untuk setiap musim periode 2 tahun?\n",
        "- Bagaimana pola penggunaan sepeda selama seminggu dan perbedaannya antara hari kerja dan akhir pekan?\n"
      ]
    },
    {
      "cell_type": "markdown",
      "metadata": {
        "id": "H-z4QGlO8DC1"
      },
      "source": [
        "## Import Semua Packages/Library yang Digunakan"
      ]
    },
    {
      "cell_type": "code",
      "execution_count": null,
      "metadata": {
        "id": "FVYwaObI8DC1"
      },
      "outputs": [],
      "source": [
        "import numpy as np\n",
        "import pandas as pd\n",
        "import matplotlib.pyplot as plt\n",
        "import seaborn as sns"
      ]
    },
    {
      "cell_type": "markdown",
      "source": [
        "## Data Wrangling"
      ],
      "metadata": {
        "id": "-KSvUnf0wbfA"
      }
    },
    {
      "cell_type": "markdown",
      "metadata": {
        "id": "sXU2GBYu8DC1"
      },
      "source": [
        "### Gathering Data"
      ]
    },
    {
      "cell_type": "markdown",
      "source": [
        "Load data day_df"
      ],
      "metadata": {
        "id": "vICagSNjjP-h"
      }
    },
    {
      "cell_type": "code",
      "execution_count": null,
      "metadata": {
        "id": "zjCBk1BI8DC1"
      },
      "outputs": [],
      "source": [
        "day_df  = pd.read_csv('https://raw.githubusercontent.com/ayuastari/proyek-analisis-data-dengan-python/main/dataset/day.csv')\n",
        "day_df.head()"
      ]
    },
    {
      "cell_type": "markdown",
      "metadata": {
        "id": "FHSiqaZp8DC1"
      },
      "source": [
        "### Assessing Data"
      ]
    },
    {
      "cell_type": "markdown",
      "source": [
        "Menilai data day_df"
      ],
      "metadata": {
        "id": "yljeKKCZmHPs"
      }
    },
    {
      "cell_type": "code",
      "source": [
        "#Informasi mengenai dataset\n",
        "day_df.info()"
      ],
      "metadata": {
        "id": "gkcsiqgC7vdk"
      },
      "execution_count": null,
      "outputs": []
    },
    {
      "cell_type": "code",
      "source": [
        "# Memeriksa jumlah baris dan kolom dalam dataset\n",
        "jumlah_baris, jumlah_kolom = day_df.shape\n",
        "print(f\"Jumlah Baris: {jumlah_baris}\")\n",
        "print(f\"Jumlah Kolom: {jumlah_kolom}\")"
      ],
      "metadata": {
        "id": "AC_OHdtyolGz"
      },
      "execution_count": null,
      "outputs": []
    },
    {
      "cell_type": "code",
      "source": [
        "# Memeriksa tipe data setiap kolom\n",
        "tipe_data = day_df.dtypes\n",
        "print(\"\\nTipe Data Setiap Kolom:\")\n",
        "print(tipe_data)"
      ],
      "metadata": {
        "id": "GNH8hM3Xo_ef"
      },
      "execution_count": null,
      "outputs": []
    },
    {
      "cell_type": "code",
      "source": [
        "# Memeriksa apakah ada nilai yang hilang (missing values)\n",
        "missing_values = day_df.isna().sum()\n",
        "print(\"\\nJumlah Missing Values per Kolom:\")\n",
        "print(missing_values)"
      ],
      "metadata": {
        "id": "j-oWQNBPpJt0"
      },
      "execution_count": null,
      "outputs": []
    },
    {
      "cell_type": "code",
      "source": [
        "print(\"\\nJumlah Duplikat :\", day_df.duplicated().sum())"
      ],
      "metadata": {
        "id": "YZ83IJxVpXZ_"
      },
      "execution_count": null,
      "outputs": []
    },
    {
      "cell_type": "code",
      "source": [
        "day_df.describe(include=\"all\")"
      ],
      "metadata": {
        "id": "v3WLvK3npinp"
      },
      "execution_count": null,
      "outputs": []
    },
    {
      "cell_type": "markdown",
      "metadata": {
        "id": "EhN5R4hr8DC1"
      },
      "source": [
        "### Cleaning Data"
      ]
    },
    {
      "cell_type": "markdown",
      "source": [
        "cleaning day_df"
      ],
      "metadata": {
        "id": "eXPf3CByqqx9"
      }
    },
    {
      "cell_type": "code",
      "source": [
        "#Menghapus(drop) kolom yang tidak diperlukan\n",
        "drop_column = [\"instant\", \"hum\", \"windspeed\"]\n",
        "\n",
        "for n in day_df.columns:\n",
        "  if n in drop_column:\n",
        "   day_df.drop(labels=n, axis=1, inplace=True)"
      ],
      "metadata": {
        "id": "wQ_TYeaQ9hoE"
      },
      "execution_count": null,
      "outputs": []
    },
    {
      "cell_type": "code",
      "source": [
        "#Mengubah nama data menjadi nama yang mudah dipahami\n",
        "day_df.rename(columns = {\n",
        "    \"dteday\":\"dateday\",\n",
        "    \"yr\":\"year\",\n",
        "    \"mnth\":\"month\",\n",
        "    \"cnt\":\"count\",\n",
        "}, inplace=True)"
      ],
      "metadata": {
        "id": "Nueemvo69LXk"
      },
      "execution_count": null,
      "outputs": []
    },
    {
      "cell_type": "code",
      "source": [
        "#Memberikan keterangan\n",
        "day_df[\"year\"]= day_df[\"year\"].map({0:2011, 1:2012})\n",
        "day_df[\"month\"]= day_df[\"month\"].map({1:\"January\", 2:\"February\", 3:\"March\", 4:\"April\", 5:\"May\", 6:\"june\", 7:\"July\", 8:\"August\", 9:\"September\", 10:\"October\", 11:\"November\", 12:\"December\"})\n",
        "day_df[\"weekday\"]= day_df[\"weekday\"].map({0:\"Sunday\",1:\"Monday\", 2:\"Tuesday\", 3:\"Wednesday\", 4:\"Thursday\", 5:\"Friday\", 6:\"Saturday\"})\n",
        "day_df[\"season\"]= day_df[\"season\"].map({1:\"spring\", 2:\"summer\", 3:\"fall\", 4:\"winter\"})\n",
        "day_df[\"weathersit\"]= day_df[\"weathersit\"].map({1:\"Clear, Few clouds, Partly cloudy, Partly cloudy\", 2:\"Mist + Cloudy, Mist + Broken clouds, Mist + Few clouds, Mist\", 3:\"Light Snow, Light Rain + Thunderstorm + Scattered clouds, Light Rain + Scattered clouds\", 4:\"Heavy Rain + Ice Pallets + Thunderstorm + Mist, Snow + Fog\"})"
      ],
      "metadata": {
        "id": "RG1pgjKr-dD1"
      },
      "execution_count": null,
      "outputs": []
    },
    {
      "cell_type": "code",
      "source": [
        "#Mengubah tipe tanggal\n",
        "day_df['dateday'] = pd.to_datetime(day_df['dateday'])\n",
        "\n",
        "#Mengubah tipe data menjadi data kategorial\n",
        "day_df[\"year\"]= day_df.year.astype(\"category\")\n",
        "day_df['season'] = day_df.season.astype('category')\n",
        "day_df['month'] = day_df.month.astype('category')\n",
        "day_df['weekday'] = day_df.weekday.astype('category')\n",
        "day_df['weathersit'] = day_df.weathersit.astype('category')"
      ],
      "metadata": {
        "id": "jVnYpprE9Evz"
      },
      "execution_count": null,
      "outputs": []
    },
    {
      "cell_type": "code",
      "source": [
        "day_df.info()"
      ],
      "metadata": {
        "id": "ix2IgJyeAMZ3"
      },
      "execution_count": null,
      "outputs": []
    },
    {
      "cell_type": "markdown",
      "metadata": {
        "id": "gp-Y6wU38DC1"
      },
      "source": [
        "## Exploratory Data Analysis (EDA)"
      ]
    },
    {
      "cell_type": "markdown",
      "metadata": {
        "id": "MW7WF2kr8DC1"
      },
      "source": [
        "### Explore ..."
      ]
    },
    {
      "cell_type": "code",
      "execution_count": null,
      "metadata": {
        "id": "e9CQCZjk8DC2"
      },
      "outputs": [],
      "source": [
        "#Klasifikasi pengguna sepeda berdasarkan musim\n",
        "seasons = day_df.groupby(by='season').agg({\n",
        "    'workingday':'sum',\n",
        "    'holiday':'sum',\n",
        "    'temp':'sum',\n",
        "    'count':'sum'\n",
        "}).reset_index()"
      ]
    },
    {
      "cell_type": "code",
      "source": [
        "#Klasifikasi penguna sepeda perhari dengan tanggal dan tahun\n",
        "daily= day_df.groupby(by=['dateday','year']).agg({\n",
        "    'temp':'sum',\n",
        "    'count':'sum'\n",
        "}).reset_index()"
      ],
      "metadata": {
        "id": "LJPT_kVdErjv"
      },
      "execution_count": null,
      "outputs": []
    },
    {
      "cell_type": "code",
      "source": [
        "#Klasifikasi pengguna sepeda berdasarkan minggu dan tahun\n",
        "weekdays = day_df.groupby(by=['weekday','year']).agg({\n",
        "    'count':'sum'\n",
        "}).reset_index()"
      ],
      "metadata": {
        "id": "7o_Zs0vHEuLf"
      },
      "execution_count": null,
      "outputs": []
    },
    {
      "cell_type": "markdown",
      "metadata": {
        "id": "zsyZjqak8DC2"
      },
      "source": [
        "## Visualization & Explanatory Analysis"
      ]
    },
    {
      "cell_type": "markdown",
      "metadata": {
        "id": "DgHI7CiU8DC2"
      },
      "source": [
        "### Pertanyaan 1: Apakah terdapat perbedaan pengguna yang signifikan dalam total workingday dan holiday antara musim-musim tersebut?"
      ]
    },
    {
      "cell_type": "code",
      "execution_count": null,
      "metadata": {
        "id": "Go0lCsvO8DC2"
      },
      "outputs": [],
      "source": [
        "fig, ax = plt.subplots(nrows=1, ncols=2, figsize=(15,5))\n",
        "\n",
        "sns.barplot(\n",
        "    x='season',\n",
        "    y='workingday',\n",
        "    data=day_df,\n",
        "    hue='season',\n",
        "    palette='viridis',\n",
        "    errorbar=None,\n",
        "    ax=ax[0],\n",
        "    legend=False  # Disable legend\n",
        ")\n",
        "ax[0].set_xlabel('Musim')\n",
        "ax[0].set_ylabel('Total Workingday')\n",
        "ax[0].set_title('Perbandingan Total Workingday antara Musim')\n",
        "\n",
        "# Bar plot for holiday\n",
        "sns.barplot(\n",
        "    x='season',\n",
        "    y='holiday',\n",
        "    data=day_df,\n",
        "    hue='season',\n",
        "    palette='viridis',\n",
        "    errorbar=None,\n",
        "    ax=ax[1],\n",
        "    legend=False  # Disable legend\n",
        ")\n",
        "ax[1].set_xlabel('Musim')\n",
        "ax[1].set_ylabel('Total Holiday')\n",
        "ax[1].set_title('Perbandingan Total Holiday antara Musim')\n",
        "\n",
        "plt.tight_layout()\n",
        "plt.show()"
      ]
    },
    {
      "cell_type": "markdown",
      "source": [
        "\n",
        "Dari grafik yang Anda tampilkan, kita dapat memperoleh informasi sebagai berikut:\n",
        "\n",
        "Perbandingan Total Workingday antara Musim:\n",
        "\n",
        "- Musim gugur memiliki total workingday tertinggi, diikuti oleh musim panas, - musim dingin, dan musim semi.\n",
        "- Musim semi memiliki total workingday yang paling rendah.\n",
        "Perbandingan Total Holiday antara Musim:\n",
        "\n",
        "- Musim semi memiliki total holiday tertinggi, diikuti oleh musim dingin, musim panas, dan musim gugur.\n",
        "- Musim semi memiliki total holiday yang signifikan lebih tinggi daripada musim-musim lainnya.\n",
        "- Musim gugur memiliki total holiday yang paling rendah."
      ],
      "metadata": {
        "id": "LA8uqboQVAEp"
      }
    },
    {
      "cell_type": "markdown",
      "metadata": {
        "id": "HZxOiQ6n8DC2"
      },
      "source": [
        "### Pertanyaan 2: Bagaimana hubungan antara temp (suhu) dan total count pengguna sepeda untuk setiap musim periode 2 tahun?"
      ]
    },
    {
      "cell_type": "code",
      "execution_count": null,
      "metadata": {
        "id": "1swJUdAD8DC2"
      },
      "outputs": [],
      "source": [
        "plt.figure(figsize=(20, 5))\n",
        "colors = plt.get_cmap(\"viridis\")\n",
        "\n",
        "sns.scatterplot(\n",
        "    x=\"dateday\",\n",
        "    y=\"temp\",\n",
        "    hue=\"count\",\n",
        "    data=daily,\n",
        "    palette=colors,\n",
        "    marker=\"o\"\n",
        ")\n",
        "\n",
        "plt.title(\"Hubungan antara Suhu dan Total Count Pengguna Sepeda untuk Setiap Musim dalam rentang waktu 2 tahun\", loc=\"center\", fontsize=12)\n",
        "plt.xlabel('rentang waktu')\n",
        "plt.ylabel(\"Suhu\")\n",
        "plt.legend(title=\"Total Count Pengguna Sepeda\", loc=\"upper left\")\n",
        "plt.show()"
      ]
    },
    {
      "cell_type": "markdown",
      "source": [
        "\n",
        "Rentang waktu: Januari 2011 hingga Januari 2013.\n",
        "Hubungan antara suhu dan jumlah pengguna sepeda:\n",
        "- Pada suhu yang lebih rendah, jumlah pengguna sepeda cenderung lebih sedikit (sekitar bulan September hingga Februari).\n",
        "- Pada suhu yang lebih tinggi, jumlah pengguna sepeda cenderung lebih tinggi (sekitar bulan Maret hingga Agustus).\n",
        "- Variasi dalam jumlah pengguna sepeda di musim semi dan musim gugur, tergantung pada suhu yang dialami.\n",
        "- Adanya hubungan erat antara suhu dan jumlah pengguna sepeda, di mana suhu yang lebih tinggi mengakibatkan peningkatan penggunaan sepeda.\n",
        "Dengan demikian, suhu memainkan peran penting dalam menentukan jumlah pengguna sepeda, dengan suhu yang lebih tinggi cenderung meningkatkan penggunaan sepeda, sementara suhu yang lebih rendah cenderung mengurangi penggunaan sepeda.\n",
        "\n"
      ],
      "metadata": {
        "id": "PIsDjAeGOL5f"
      }
    },
    {
      "cell_type": "markdown",
      "source": [
        "## Pertanyaan 3: Bagaimana pola penggunaan sepeda selama seminggu dan perbedaannya antara hari kerja dan akhir pekan?"
      ],
      "metadata": {
        "id": "JGbfyDew2jNP"
      }
    },
    {
      "cell_type": "code",
      "source": [
        "plt.figure(figsize=(10, 5))\n",
        "colors_ = [\"#006400\", \"#00008B\"]\n",
        "\n",
        "sns.lineplot(\n",
        "    x=\"weekday\",\n",
        "    y=\"count\",\n",
        "    hue=\"year\",\n",
        "    data=weekdays,\n",
        "    palette=colors_,\n",
        "    marker=\"o\"\n",
        ")\n",
        "\n",
        "plt.title(\"Rata Rata Pengguna Sepeda Mingguan dalam 2 Tahun\", loc=\"center\", fontsize=12)\n",
        "plt.xlabel('Hari')\n",
        "plt.ylabel(\"Jumlah Sepeda\")\n",
        "plt.legend(title=\"Tahun\", loc=\"upper left\")\n",
        "plt.show()"
      ],
      "metadata": {
        "id": "e63-mn8kuCpk"
      },
      "execution_count": null,
      "outputs": []
    },
    {
      "cell_type": "markdown",
      "source": [
        "Grafik tersebut menggambarkan rata-rata penggunaan sepeda setiap hari dalam seminggu selama dua tahun, dengan garis berbeda mewakili tahun-tahun yang berbeda. Dari grafik tersebut, kita dapat melihat pola penggunaan sepeda yang menarik:\n",
        "\n",
        "Hari Kerja (Senin-Jumat): Jumlah pengguna sepeda cenderung stabil atau sedikit menurun pada hari kerja, dengan puncak yang lebih rendah pada hari Jumat. Hal ini mungkin menunjukkan bahwa sebagian besar orang menggunakan sepeda untuk transportasi ke tempat kerja atau sekolah pada hari-hari tersebut.\n",
        "\n",
        "Akhir Pekan (Sabtu-Minggu): Jumlah pengguna sepeda meningkat secara signifikan pada akhir pekan, dengan puncak tertinggi pada hari Sabtu. Hal ini menunjukkan bahwa sepeda lebih sering digunakan untuk rekreasi atau kegiatan santai pada akhir pekan.\n",
        "\n",
        "Dengan demikian, grafik tersebut menggambarkan pola penggunaan sepeda yang berbeda antara hari kerja dan akhir pekan, di mana penggunaan sepeda cenderung lebih tinggi pada akhir pekan untuk kegiatan rekreasi atau santai."
      ],
      "metadata": {
        "id": "5MDyX_a31TGC"
      }
    },
    {
      "cell_type": "markdown",
      "metadata": {
        "id": "_WeHlCeX8DC2"
      },
      "source": [
        "## Conclusion"
      ]
    },
    {
      "cell_type": "markdown",
      "metadata": {
        "id": "ZTcyR48Y8DC2"
      },
      "source": [
        "- Conclution pertanyaan 1\n",
        "Kesimpulannya, musim gugur cenderung memiliki total workingday lebih tinggi dan total holiday yang lebih rendah dibandingkan dengan musim-musim lainnya, sementara musim semi cenderung memiliki total workingday lebih rendah dan total holiday yang lebih tinggi. perbedaan total workingday tidak begitu signifikan dibandingkan total holiday. pengguna saat workingday stabil dan pengguna holiday memiliki perbedaan signifikan tergantung musimnya.\n",
        "- Conclution pertanyaan 2\n",
        "Kesimpulannya, Dalam rentang waktu ini, terlihat bahwa pada musim semi dan musim panas (sekitar bulan Maret hingga Agustus) ketika suhu meningkat, jumlah pengguna sepeda cenderung lebih tinggi. Sebaliknya, pada musim gugur dan musim dingin (sekitar bulan September hingga Februari), ketika suhu menurun, jumlah pengguna sepeda cenderung lebih rendah. Ini menunjukkan adanya hubungan yang erat antara suhu dan jumlah pengguna sepeda, di mana suhu yang lebih tinggi mengakibatkan peningkatan penggunaan sepeda.\n",
        "- conclusion pertanyaan 3\n",
        "Kesimpulannya, Dari grafik ini, kita dapat melihat bahwa pola penggunaan sepeda cenderung berbeda antara hari kerja dan akhir pekan. Pada hari-hari kerja (Senin-Jumat), jumlah pengguna sepeda cenderung stabil atau bahkan sedikit menurun, sementara pada akhir pekan (Sabtu-Minggu), jumlah pengguna sepeda cenderung meningkat."
      ]
    }
  ],
  "metadata": {
    "kernelspec": {
      "display_name": "Python 3",
      "language": "python",
      "name": "python3"
    },
    "language_info": {
      "name": "python",
      "version": "3.8.0 (tags/v3.8.0:fa919fd, Oct 14 2019, 19:21:23) [MSC v.1916 32 bit (Intel)]"
    },
    "orig_nbformat": 4,
    "vscode": {
      "interpreter": {
        "hash": "972b3bf27e332e87b5379f2791f6ef9dfc79c71018c370b0d7423235e20fe4d7"
      }
    },
    "colab": {
      "provenance": []
    }
  },
  "nbformat": 4,
  "nbformat_minor": 0
}